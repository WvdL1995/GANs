{
 "cells": [
  {
   "attachments": {},
   "cell_type": "markdown",
   "metadata": {},
   "source": [
    "GANs worksheet\n",
    "\n",
    "This worksheet shows an implementation of GANs.\n",
    "Pytorch is used to implement the Neural network and backpropagation.\n",
    "The different lossfunctions are implemented using torch\n",
    "\n",
    "The goal of this worksheet is to explain how GANs work in very simple applications."
   ]
  },
  {
   "cell_type": "code",
   "execution_count": 198,
   "metadata": {},
   "outputs": [
    {
     "name": "stdout",
     "output_type": "stream",
     "text": [
      "cuda:0\n"
     ]
    }
   ],
   "source": [
    "import numpy as np\n",
    "#import matplotlib.pyplot as plt\n",
    "import seaborn as sns\n",
    "import pandas as pd\n",
    "\n",
    "import torch\n",
    "import torch.nn as nn\n",
    "\n",
    "from tqdm import tqdm\n",
    "\n",
    "if torch.cuda.is_available():\n",
    "    dev = \"cuda:0\"\n",
    "else:\n",
    "    dev = \"cpu\"\n",
    "device = torch.device(dev)\n",
    "print(device)"
   ]
  },
  {
   "attachments": {},
   "cell_type": "markdown",
   "metadata": {},
   "source": [
    "The goal of the GAN in this worksheet is to map samples from one distribution to another distribution.\n",
    "First two distributions are defined. The first is the distribution of the prior:\n",
    "With probability density function $$P_z(\\textbf{z})$$\n",
    "This distribution is defined as a normal distribution.\n",
    "\n",
    "The second distribution acts as the real data.\n",
    "From this distribution samples are taken during the training process.\n",
    "\n"
   ]
  },
  {
   "cell_type": "code",
   "execution_count": 199,
   "metadata": {},
   "outputs": [],
   "source": [
    "def noisesample(size,mu=-0.03,sigma=0.01):\n",
    "    \"\"\"Generate realizations of the prior noise.\n",
    "    \"\"\"\n",
    "    return np.random.normal(mu,sigma,size)\n",
    "\n",
    "def data_distribution(size,mu=0.5,sigma=0.02):\n",
    "    \"\"\"Generate realizations from the data distribution.\n",
    "    This function acts as data generator.\n",
    "    \"\"\"\n",
    "    return np.random.normal(mu,sigma,size)"
   ]
  },
  {
   "cell_type": "code",
   "execution_count": 200,
   "metadata": {},
   "outputs": [
    {
     "name": "stdout",
     "output_type": "stream",
     "text": [
      "Sequential(\n",
      "  (0): Linear(in_features=10000, out_features=6, bias=True)\n",
      "  (1): ReLU()\n",
      "  (2): Linear(in_features=6, out_features=6, bias=True)\n",
      "  (3): ReLU()\n",
      "  (4): Linear(in_features=6, out_features=10000, bias=True)\n",
      "  (5): Sigmoid()\n",
      ")\n"
     ]
    }
   ],
   "source": [
    "arraylength = 1000 \n",
    "n_input, n_hidden, n_out = arraylength,6,arraylength\n",
    "\n",
    "Generator = nn.Sequential(nn.Linear(n_input, n_hidden),\n",
    "                          nn.ReLU(),\n",
    "                          nn.Linear(n_hidden, n_hidden),\n",
    "                          nn.ReLU(),\n",
    "                          nn.Linear(n_hidden, n_out),\n",
    "                          nn.Sigmoid()).to(dev)\n",
    "Discriminator = nn.Sequential(nn.Linear(n_input, n_hidden),\n",
    "                          nn.ReLU(),\n",
    "                          nn.Linear(n_hidden, n_hidden),\n",
    "                          nn.ReLU(),\n",
    "                          nn.Linear(n_hidden, 1),\n",
    "                          nn.Sigmoid()).to(dev)\n",
    "\n",
    "print(Generator)"
   ]
  },
  {
   "cell_type": "code",
   "execution_count": 201,
   "metadata": {},
   "outputs": [],
   "source": [
    "def tot_loss(m):\n",
    "    x = torch.from_numpy(data_distribution(m)).float().to(dev)\n",
    "    z = torch.from_numpy(noisesample(m)).float().to(dev)\n",
    "    cost = torch.mean(torch.log(Generator(x)).to(dev)) - torch.mean(torch.log(1-Discriminator(Generator(z)).to(dev))).to(dev)\n",
    "    return cost\n",
    "def dis_loss(m):\n",
    "    x = torch.from_numpy(data_distribution(m)).float().to(dev)\n",
    "    z = torch.from_numpy(noisesample(m)).float().to(dev)\n",
    "    cost_d = torch.mean(torch.log(Discriminator(x))+(torch.log(1-Discriminator(Generator(z)))))\n",
    "    return -cost_d\n",
    "def dis_lossR(m):\n",
    "    x = torch.from_numpy(data_distribution(m)).float().to(dev)\n",
    "    return -torch.mean(torch.log(Discriminator(x)))\n",
    "\n",
    "def gen_loss(m):\n",
    "    z = torch.from_numpy(noisesample(m)).float().to(dev)\n",
    "    cost_g = torch.mean(torch.log(1-Discriminator(Generator(z))))\n",
    "    return cost_g\n"
   ]
  },
  {
   "cell_type": "code",
   "execution_count": 202,
   "metadata": {},
   "outputs": [],
   "source": [
    "lr=0.005\n",
    "gen_opt = torch.optim.SGD(Generator.parameters(),lr)\n",
    "dis_opt = torch.optim.SGD(Discriminator.parameters(),lr)"
   ]
  },
  {
   "cell_type": "code",
   "execution_count": 203,
   "metadata": {},
   "outputs": [
    {
     "name": "stderr",
     "output_type": "stream",
     "text": [
      "  1%|          | 1/100 [00:36<59:39, 36.16s/it]\n"
     ]
    },
    {
     "ename": "KeyboardInterrupt",
     "evalue": "",
     "output_type": "error",
     "traceback": [
      "\u001b[1;31m---------------------------------------------------------------------------\u001b[0m",
      "\u001b[1;31mKeyboardInterrupt\u001b[0m                         Traceback (most recent call last)",
      "\u001b[1;32m~\\AppData\\Local\\Temp\\ipykernel_18460\\2605141635.py\u001b[0m in \u001b[0;36m<module>\u001b[1;34m\u001b[0m\n\u001b[0;32m     13\u001b[0m         \u001b[0mloss\u001b[0m\u001b[1;33m.\u001b[0m\u001b[0mbackward\u001b[0m\u001b[1;33m(\u001b[0m\u001b[1;33m)\u001b[0m\u001b[1;33m\u001b[0m\u001b[1;33m\u001b[0m\u001b[0m\n\u001b[0;32m     14\u001b[0m         \u001b[0mdis_opt\u001b[0m\u001b[1;33m.\u001b[0m\u001b[0mstep\u001b[0m\u001b[1;33m(\u001b[0m\u001b[1;33m)\u001b[0m\u001b[1;33m\u001b[0m\u001b[1;33m\u001b[0m\u001b[0m\n\u001b[1;32m---> 15\u001b[1;33m     \u001b[0mdis_losses\u001b[0m\u001b[1;33m.\u001b[0m\u001b[0mappend\u001b[0m\u001b[1;33m(\u001b[0m\u001b[0mdis_lossR\u001b[0m\u001b[1;33m(\u001b[0m\u001b[0mm\u001b[0m\u001b[1;33m)\u001b[0m\u001b[1;33m.\u001b[0m\u001b[0mitem\u001b[0m\u001b[1;33m(\u001b[0m\u001b[1;33m)\u001b[0m\u001b[1;33m)\u001b[0m\u001b[1;33m\u001b[0m\u001b[1;33m\u001b[0m\u001b[0m\n\u001b[0m\u001b[0;32m     16\u001b[0m \u001b[1;33m\u001b[0m\u001b[0m\n\u001b[0;32m     17\u001b[0m     \u001b[1;31m# generator update\u001b[0m\u001b[1;33m\u001b[0m\u001b[1;33m\u001b[0m\u001b[1;33m\u001b[0m\u001b[0m\n",
      "\u001b[1;32m~\\AppData\\Local\\Temp\\ipykernel_18460\\841116588.py\u001b[0m in \u001b[0;36mdis_lossR\u001b[1;34m(m)\u001b[0m\n\u001b[0;32m     10\u001b[0m     \u001b[1;32mreturn\u001b[0m \u001b[1;33m-\u001b[0m\u001b[0mcost_d\u001b[0m\u001b[1;33m\u001b[0m\u001b[1;33m\u001b[0m\u001b[0m\n\u001b[0;32m     11\u001b[0m \u001b[1;32mdef\u001b[0m \u001b[0mdis_lossR\u001b[0m\u001b[1;33m(\u001b[0m\u001b[0mm\u001b[0m\u001b[1;33m)\u001b[0m\u001b[1;33m:\u001b[0m\u001b[1;33m\u001b[0m\u001b[1;33m\u001b[0m\u001b[0m\n\u001b[1;32m---> 12\u001b[1;33m     \u001b[0mx\u001b[0m \u001b[1;33m=\u001b[0m \u001b[0mtorch\u001b[0m\u001b[1;33m.\u001b[0m\u001b[0mfrom_numpy\u001b[0m\u001b[1;33m(\u001b[0m\u001b[0mdata_distribution\u001b[0m\u001b[1;33m(\u001b[0m\u001b[0mm\u001b[0m\u001b[1;33m)\u001b[0m\u001b[1;33m)\u001b[0m\u001b[1;33m.\u001b[0m\u001b[0mfloat\u001b[0m\u001b[1;33m(\u001b[0m\u001b[1;33m)\u001b[0m\u001b[1;33m.\u001b[0m\u001b[0mto\u001b[0m\u001b[1;33m(\u001b[0m\u001b[0mdev\u001b[0m\u001b[1;33m)\u001b[0m\u001b[1;33m\u001b[0m\u001b[1;33m\u001b[0m\u001b[0m\n\u001b[0m\u001b[0;32m     13\u001b[0m     \u001b[1;32mreturn\u001b[0m \u001b[1;33m-\u001b[0m\u001b[0mtorch\u001b[0m\u001b[1;33m.\u001b[0m\u001b[0mmean\u001b[0m\u001b[1;33m(\u001b[0m\u001b[0mtorch\u001b[0m\u001b[1;33m.\u001b[0m\u001b[0mlog\u001b[0m\u001b[1;33m(\u001b[0m\u001b[0mDiscriminator\u001b[0m\u001b[1;33m(\u001b[0m\u001b[0mx\u001b[0m\u001b[1;33m)\u001b[0m\u001b[1;33m)\u001b[0m\u001b[1;33m)\u001b[0m\u001b[1;33m\u001b[0m\u001b[1;33m\u001b[0m\u001b[0m\n\u001b[0;32m     14\u001b[0m \u001b[1;33m\u001b[0m\u001b[0m\n",
      "\u001b[1;32m~\\AppData\\Local\\Temp\\ipykernel_18460\\251830522.py\u001b[0m in \u001b[0;36mdata_distribution\u001b[1;34m(size, mu, sigma)\u001b[0m\n\u001b[0;32m      8\u001b[0m     \u001b[0mThis\u001b[0m \u001b[0mfunction\u001b[0m \u001b[0macts\u001b[0m \u001b[1;32mas\u001b[0m \u001b[0mdata\u001b[0m \u001b[0mgenerator\u001b[0m\u001b[1;33m.\u001b[0m\u001b[1;33m\u001b[0m\u001b[1;33m\u001b[0m\u001b[0m\n\u001b[0;32m      9\u001b[0m     \"\"\"\n\u001b[1;32m---> 10\u001b[1;33m     \u001b[1;32mreturn\u001b[0m \u001b[0mnp\u001b[0m\u001b[1;33m.\u001b[0m\u001b[0mrandom\u001b[0m\u001b[1;33m.\u001b[0m\u001b[0mnormal\u001b[0m\u001b[1;33m(\u001b[0m\u001b[0mmu\u001b[0m\u001b[1;33m,\u001b[0m\u001b[0msigma\u001b[0m\u001b[1;33m,\u001b[0m\u001b[0msize\u001b[0m\u001b[1;33m)\u001b[0m\u001b[1;33m\u001b[0m\u001b[1;33m\u001b[0m\u001b[0m\n\u001b[0m",
      "\u001b[1;31mKeyboardInterrupt\u001b[0m: "
     ]
    }
   ],
   "source": [
    "m = [5000,arraylength] #batchsize\n",
    "maxiter = 100\n",
    "gen_losses = []\n",
    "dis_losses = []\n",
    "tot_losses = []\n",
    "for iter in tqdm(range(maxiter)):\n",
    "    #loss = tot_loss(m)\n",
    "    #tot_losses.append(loss.item())\n",
    "    # discriminator update\n",
    "    dis_opt.zero_grad()\n",
    "    for k in range(5):\n",
    "        loss = dis_loss(m)\n",
    "        loss.backward()\n",
    "        dis_opt.step()\n",
    "    dis_losses.append(dis_lossR(m).item())\n",
    "\n",
    "    # generator update\n",
    "    gen_opt.zero_grad()\n",
    "    loss = gen_loss(m)\n",
    "    gen_losses.append(loss.item())\n",
    "    loss.backward()\n",
    "    dis_opt.step()\n",
    "#sns.lineplot(data=[dis_losses,gen_losses,tot_losses])\n",
    "sns.lineplot(data=[dis_losses,gen_losses])"
   ]
  },
  {
   "cell_type": "code",
   "execution_count": null,
   "metadata": {},
   "outputs": [
    {
     "data": {
      "text/plain": [
       "<seaborn.axisgrid.FacetGrid at 0x1bd8470e1c8>"
      ]
     },
     "execution_count": 197,
     "metadata": {},
     "output_type": "execute_result"
    },
    {
     "data": {
      "image/png": "[encoded data removed]",
      "text/plain": [
       "<Figure size 558.875x500 with 1 Axes>"
      ]
     },
     "metadata": {},
     "output_type": "display_data"
    }
   ],
   "source": [
    "m=[20,arraylength]\n",
    "z = torch.from_numpy(noisesample(m)).float().to(dev)\n",
    "fakedata = Generator(z)\n",
    "\n",
    "sns.displot(data=[noisesample(m[0]*m[1]),data_distribution(m[0]*m[1]),np.concatenate(fakedata.data.tolist())],kind=\"kde\")"
   ]
  },
  {
   "cell_type": "code",
   "execution_count": null,
   "metadata": {},
   "outputs": [
    {
     "name": "stdout",
     "output_type": "stream",
     "text": [
      "tensor([[0.5130],\n",
      "        [0.5130],\n",
      "        [0.5130],\n",
      "        [0.5130],\n",
      "        [0.5130],\n",
      "        [0.5130],\n",
      "        [0.5130],\n",
      "        [0.5130],\n",
      "        [0.5130],\n",
      "        [0.5130]], grad_fn=<SigmoidBackward0>)\n",
      "tensor([[0.4867],\n",
      "        [0.4856],\n",
      "        [0.4880],\n",
      "        [0.4851],\n",
      "        [0.4802],\n",
      "        [0.4834],\n",
      "        [0.4752],\n",
      "        [0.4901],\n",
      "        [0.4802],\n",
      "        [0.4800]], grad_fn=<SigmoidBackward0>)\n"
     ]
    }
   ],
   "source": [
    "print(Discriminator(torch.from_numpy(data_distribution([10,arraylength])).float()))\n",
    "print(Discriminator(torch.from_numpy(noisesample([10,arraylength])).float()))"
   ]
  }
 ],
 "metadata": {
  "kernelspec": {
   "display_name": "Python 3",
   "language": "python",
   "name": "python3"
  },
  "language_info": {
   "codemirror_mode": {
    "name": "ipython",
    "version": 3
   },
   "file_extension": ".py",
   "mimetype": "text/x-python",
   "name": "python",
   "nbconvert_exporter": "python",
   "pygments_lexer": "ipython3",
   "version": "3.7.9"
  },
  "orig_nbformat": 4,
  "vscode": {
   "interpreter": {
    "hash": "c6d4afef8aa9b79403bf825936c878d6b8a951d99c592db7f1cc1f2ac2c037a6"
   }
  }
 },
 "nbformat": 4,
 "nbformat_minor": 2
}
